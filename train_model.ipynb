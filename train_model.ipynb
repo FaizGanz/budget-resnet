{
 "cells": [
  {
   "cell_type": "markdown",
   "metadata": {
    "id": "kN0NsJvQl9m9"
   },
   "source": [
    "### Deep Learning - Mini Project 1\n",
    "Faiz Ganz"
   ]
  },
  {
   "cell_type": "code",
   "execution_count": 1,
   "metadata": {
    "id": "d07zFtmQSLZV"
   },
   "outputs": [],
   "source": [
    "import numpy as np\n",
    "import torch\n",
    "from torch import nn\n",
    "from torchsummary import summary\n",
    "import torchvision\n",
    "import torchvision.transforms as transforms\n",
    "import torch.nn.functional as F"
   ]
  },
  {
   "cell_type": "markdown",
   "metadata": {
    "id": "dtuKl8e9mVKZ"
   },
   "source": [
    "#### Using GPU"
   ]
  },
  {
   "cell_type": "code",
   "execution_count": 2,
   "metadata": {
    "colab": {
     "base_uri": "https://localhost:8080/"
    },
    "id": "V8UnxgvckaoN",
    "outputId": "082e79ee-e06f-49f3-d553-506ebe6849d8"
   },
   "outputs": [
    {
     "name": "stdout",
     "output_type": "stream",
     "text": [
      "cuda:0\n"
     ]
    }
   ],
   "source": [
    "device = torch.device(\"cuda:0\" if torch.cuda.is_available() else \"cpu\")\n",
    "print(device)"
   ]
  },
  {
   "cell_type": "markdown",
   "metadata": {
    "id": "yFaIsy1_mY2A"
   },
   "source": [
    "#### Model Class"
   ]
  },
  {
   "cell_type": "code",
   "execution_count": 3,
   "metadata": {
    "id": "1YDPxLylIsLi"
   },
   "outputs": [],
   "source": [
    "class BasicBlock(nn.Module):\n",
    "\n",
    "    def __init__(self, in_planes, planes, stride=1):\n",
    "\n",
    "        super(BasicBlock, self).__init__()\n",
    "\n",
    "        self.conv1 = nn.Conv2d(in_planes, planes, kernel_size=3,\n",
    "                               stride=stride, padding=1, bias=False)\n",
    "        self.bn1 = nn.BatchNorm2d(planes)\n",
    "        self.conv2 = nn.Conv2d(planes, planes, kernel_size=3,\n",
    "                               stride=1, padding=1, bias=False)\n",
    "        self.bn2 = nn.BatchNorm2d(planes)\n",
    "\n",
    "        self.shortcut = nn.Sequential()\n",
    "        if stride != 1 or in_planes != planes:\n",
    "            self.shortcut = nn.Sequential(\n",
    "                nn.Conv2d(in_planes, planes, kernel_size=1,\n",
    "                          stride=stride, padding=0, bias=False),\n",
    "                nn.BatchNorm2d(planes)\n",
    "            )\n",
    "\n",
    "    def forward(self, x):\n",
    "        out = F.relu(self.bn1(self.conv1(x)))\n",
    "        out = self.bn2(self.conv2(out))\n",
    "        out += self.shortcut(x)\n",
    "        out = F.relu(out)\n",
    "        return out\n",
    "\n",
    "\n",
    "class ResNet(nn.Module):\n",
    "    def __init__(self, block, num_blocks, num_classes=10):\n",
    "        super(ResNet, self).__init__()\n",
    "        self.in_planes = 64\n",
    "\n",
    "        self.conv1 = nn.Conv2d(3, 64, kernel_size=3,\n",
    "                               stride=1, padding=1, bias=False)\n",
    "        self.bn1 = nn.BatchNorm2d(64)\n",
    "        self.layer1 = self._make_layer(block, 64, num_blocks[0], stride=1)\n",
    "        self.layer2 = self._make_layer(block, 128, num_blocks[1], stride=2)\n",
    "        self.layer3 = self._make_layer(block, 256, num_blocks[2], stride=2)\n",
    "        # self.layer4 = self._make_layer(block, 512, num_blocks[3], stride=2)\n",
    "        self.linear = nn.Linear(256, num_classes)\n",
    "\n",
    "    def _make_layer(self, block, planes, num_blocks, stride):\n",
    "        strides = [stride] + [1]*(num_blocks-1)\n",
    "        layers = []\n",
    "        for stride in strides:\n",
    "            layers.append(block(self.in_planes, planes, stride))\n",
    "            self.in_planes = planes\n",
    "        return nn.Sequential(*layers)\n",
    "\n",
    "    def forward(self, x):\n",
    "        out = F.relu(self.bn1(self.conv1(x)))\n",
    "        out = self.layer1(out)\n",
    "        out = self.layer2(out)\n",
    "        out = self.layer3(out)\n",
    "        # out = self.layer4(out)\n",
    "        out = F.avg_pool2d(out, 8)\n",
    "        out = out.view(out.size(0), -1)\n",
    "        out = self.linear(out)\n",
    "        return out\n",
    "\n",
    "def project1_model():\n",
    "    return ResNet(BasicBlock, [3, 5, 3])"
   ]
  },
  {
   "cell_type": "markdown",
   "metadata": {
    "id": "z5ewbmpcmfUK"
   },
   "source": [
    "#### Model Instantiation"
   ]
  },
  {
   "cell_type": "code",
   "execution_count": 4,
   "metadata": {
    "id": "W9jG0N9dmeaE"
   },
   "outputs": [],
   "source": [
    "model = project1_model().cuda()"
   ]
  },
  {
   "cell_type": "markdown",
   "metadata": {
    "id": "-zJhzsu5m3Do"
   },
   "source": [
    "#### Model Summary"
   ]
  },
  {
   "cell_type": "code",
   "execution_count": 5,
   "metadata": {
    "colab": {
     "base_uri": "https://localhost:8080/"
    },
    "id": "RtZdbsjEKttd",
    "outputId": "7a8c292a-00fe-43bf-d378-7184131e5c71"
   },
   "outputs": [
    {
     "name": "stdout",
     "output_type": "stream",
     "text": [
      "==========================================================================================\n",
      "Layer (type:depth-idx)                   Output Shape              Param #\n",
      "==========================================================================================\n",
      "├─Conv2d: 1-1                            [-1, 64, 32, 32]          1,728\n",
      "├─BatchNorm2d: 1-2                       [-1, 64, 32, 32]          128\n",
      "├─Sequential: 1-3                        [-1, 64, 32, 32]          --\n",
      "|    └─BasicBlock: 2-1                   [-1, 64, 32, 32]          --\n",
      "|    |    └─Conv2d: 3-1                  [-1, 64, 32, 32]          36,864\n",
      "|    |    └─BatchNorm2d: 3-2             [-1, 64, 32, 32]          128\n",
      "|    |    └─Conv2d: 3-3                  [-1, 64, 32, 32]          36,864\n",
      "|    |    └─BatchNorm2d: 3-4             [-1, 64, 32, 32]          128\n",
      "|    |    └─Sequential: 3-5              [-1, 64, 32, 32]          --\n",
      "|    └─BasicBlock: 2-2                   [-1, 64, 32, 32]          --\n",
      "|    |    └─Conv2d: 3-6                  [-1, 64, 32, 32]          36,864\n",
      "|    |    └─BatchNorm2d: 3-7             [-1, 64, 32, 32]          128\n",
      "|    |    └─Conv2d: 3-8                  [-1, 64, 32, 32]          36,864\n",
      "|    |    └─BatchNorm2d: 3-9             [-1, 64, 32, 32]          128\n",
      "|    |    └─Sequential: 3-10             [-1, 64, 32, 32]          --\n",
      "|    └─BasicBlock: 2-3                   [-1, 64, 32, 32]          --\n",
      "|    |    └─Conv2d: 3-11                 [-1, 64, 32, 32]          36,864\n",
      "|    |    └─BatchNorm2d: 3-12            [-1, 64, 32, 32]          128\n",
      "|    |    └─Conv2d: 3-13                 [-1, 64, 32, 32]          36,864\n",
      "|    |    └─BatchNorm2d: 3-14            [-1, 64, 32, 32]          128\n",
      "|    |    └─Sequential: 3-15             [-1, 64, 32, 32]          --\n",
      "├─Sequential: 1-4                        [-1, 128, 16, 16]         --\n",
      "|    └─BasicBlock: 2-4                   [-1, 128, 16, 16]         --\n",
      "|    |    └─Conv2d: 3-16                 [-1, 128, 16, 16]         73,728\n",
      "|    |    └─BatchNorm2d: 3-17            [-1, 128, 16, 16]         256\n",
      "|    |    └─Conv2d: 3-18                 [-1, 128, 16, 16]         147,456\n",
      "|    |    └─BatchNorm2d: 3-19            [-1, 128, 16, 16]         256\n",
      "|    |    └─Sequential: 3-20             [-1, 128, 16, 16]         8,448\n",
      "|    └─BasicBlock: 2-5                   [-1, 128, 16, 16]         --\n",
      "|    |    └─Conv2d: 3-21                 [-1, 128, 16, 16]         147,456\n",
      "|    |    └─BatchNorm2d: 3-22            [-1, 128, 16, 16]         256\n",
      "|    |    └─Conv2d: 3-23                 [-1, 128, 16, 16]         147,456\n",
      "|    |    └─BatchNorm2d: 3-24            [-1, 128, 16, 16]         256\n",
      "|    |    └─Sequential: 3-25             [-1, 128, 16, 16]         --\n",
      "|    └─BasicBlock: 2-6                   [-1, 128, 16, 16]         --\n",
      "|    |    └─Conv2d: 3-26                 [-1, 128, 16, 16]         147,456\n",
      "|    |    └─BatchNorm2d: 3-27            [-1, 128, 16, 16]         256\n",
      "|    |    └─Conv2d: 3-28                 [-1, 128, 16, 16]         147,456\n",
      "|    |    └─BatchNorm2d: 3-29            [-1, 128, 16, 16]         256\n",
      "|    |    └─Sequential: 3-30             [-1, 128, 16, 16]         --\n",
      "|    └─BasicBlock: 2-7                   [-1, 128, 16, 16]         --\n",
      "|    |    └─Conv2d: 3-31                 [-1, 128, 16, 16]         147,456\n",
      "|    |    └─BatchNorm2d: 3-32            [-1, 128, 16, 16]         256\n",
      "|    |    └─Conv2d: 3-33                 [-1, 128, 16, 16]         147,456\n",
      "|    |    └─BatchNorm2d: 3-34            [-1, 128, 16, 16]         256\n",
      "|    |    └─Sequential: 3-35             [-1, 128, 16, 16]         --\n",
      "|    └─BasicBlock: 2-8                   [-1, 128, 16, 16]         --\n",
      "|    |    └─Conv2d: 3-36                 [-1, 128, 16, 16]         147,456\n",
      "|    |    └─BatchNorm2d: 3-37            [-1, 128, 16, 16]         256\n",
      "|    |    └─Conv2d: 3-38                 [-1, 128, 16, 16]         147,456\n",
      "|    |    └─BatchNorm2d: 3-39            [-1, 128, 16, 16]         256\n",
      "|    |    └─Sequential: 3-40             [-1, 128, 16, 16]         --\n",
      "├─Sequential: 1-5                        [-1, 256, 8, 8]           --\n",
      "|    └─BasicBlock: 2-9                   [-1, 256, 8, 8]           --\n",
      "|    |    └─Conv2d: 3-41                 [-1, 256, 8, 8]           294,912\n",
      "|    |    └─BatchNorm2d: 3-42            [-1, 256, 8, 8]           512\n",
      "|    |    └─Conv2d: 3-43                 [-1, 256, 8, 8]           589,824\n",
      "|    |    └─BatchNorm2d: 3-44            [-1, 256, 8, 8]           512\n",
      "|    |    └─Sequential: 3-45             [-1, 256, 8, 8]           33,280\n",
      "|    └─BasicBlock: 2-10                  [-1, 256, 8, 8]           --\n",
      "|    |    └─Conv2d: 3-46                 [-1, 256, 8, 8]           589,824\n",
      "|    |    └─BatchNorm2d: 3-47            [-1, 256, 8, 8]           512\n",
      "|    |    └─Conv2d: 3-48                 [-1, 256, 8, 8]           589,824\n",
      "|    |    └─BatchNorm2d: 3-49            [-1, 256, 8, 8]           512\n",
      "|    |    └─Sequential: 3-50             [-1, 256, 8, 8]           --\n",
      "|    └─BasicBlock: 2-11                  [-1, 256, 8, 8]           --\n",
      "|    |    └─Conv2d: 3-51                 [-1, 256, 8, 8]           589,824\n",
      "|    |    └─BatchNorm2d: 3-52            [-1, 256, 8, 8]           512\n",
      "|    |    └─Conv2d: 3-53                 [-1, 256, 8, 8]           589,824\n",
      "|    |    └─BatchNorm2d: 3-54            [-1, 256, 8, 8]           512\n",
      "|    |    └─Sequential: 3-55             [-1, 256, 8, 8]           --\n",
      "├─Linear: 1-6                            [-1, 10]                  2,570\n",
      "==========================================================================================\n",
      "Total params: 4,918,602\n",
      "Trainable params: 4,918,602\n",
      "Non-trainable params: 0\n",
      "Total mult-adds (M): 808.56\n",
      "==========================================================================================\n",
      "Input size (MB): 0.01\n",
      "Forward/backward pass size (MB): 14.25\n",
      "Params size (MB): 18.76\n",
      "Estimated Total Size (MB): 33.02\n",
      "==========================================================================================\n"
     ]
    },
    {
     "data": {
      "text/plain": [
       "==========================================================================================\n",
       "Layer (type:depth-idx)                   Output Shape              Param #\n",
       "==========================================================================================\n",
       "├─Conv2d: 1-1                            [-1, 64, 32, 32]          1,728\n",
       "├─BatchNorm2d: 1-2                       [-1, 64, 32, 32]          128\n",
       "├─Sequential: 1-3                        [-1, 64, 32, 32]          --\n",
       "|    └─BasicBlock: 2-1                   [-1, 64, 32, 32]          --\n",
       "|    |    └─Conv2d: 3-1                  [-1, 64, 32, 32]          36,864\n",
       "|    |    └─BatchNorm2d: 3-2             [-1, 64, 32, 32]          128\n",
       "|    |    └─Conv2d: 3-3                  [-1, 64, 32, 32]          36,864\n",
       "|    |    └─BatchNorm2d: 3-4             [-1, 64, 32, 32]          128\n",
       "|    |    └─Sequential: 3-5              [-1, 64, 32, 32]          --\n",
       "|    └─BasicBlock: 2-2                   [-1, 64, 32, 32]          --\n",
       "|    |    └─Conv2d: 3-6                  [-1, 64, 32, 32]          36,864\n",
       "|    |    └─BatchNorm2d: 3-7             [-1, 64, 32, 32]          128\n",
       "|    |    └─Conv2d: 3-8                  [-1, 64, 32, 32]          36,864\n",
       "|    |    └─BatchNorm2d: 3-9             [-1, 64, 32, 32]          128\n",
       "|    |    └─Sequential: 3-10             [-1, 64, 32, 32]          --\n",
       "|    └─BasicBlock: 2-3                   [-1, 64, 32, 32]          --\n",
       "|    |    └─Conv2d: 3-11                 [-1, 64, 32, 32]          36,864\n",
       "|    |    └─BatchNorm2d: 3-12            [-1, 64, 32, 32]          128\n",
       "|    |    └─Conv2d: 3-13                 [-1, 64, 32, 32]          36,864\n",
       "|    |    └─BatchNorm2d: 3-14            [-1, 64, 32, 32]          128\n",
       "|    |    └─Sequential: 3-15             [-1, 64, 32, 32]          --\n",
       "├─Sequential: 1-4                        [-1, 128, 16, 16]         --\n",
       "|    └─BasicBlock: 2-4                   [-1, 128, 16, 16]         --\n",
       "|    |    └─Conv2d: 3-16                 [-1, 128, 16, 16]         73,728\n",
       "|    |    └─BatchNorm2d: 3-17            [-1, 128, 16, 16]         256\n",
       "|    |    └─Conv2d: 3-18                 [-1, 128, 16, 16]         147,456\n",
       "|    |    └─BatchNorm2d: 3-19            [-1, 128, 16, 16]         256\n",
       "|    |    └─Sequential: 3-20             [-1, 128, 16, 16]         8,448\n",
       "|    └─BasicBlock: 2-5                   [-1, 128, 16, 16]         --\n",
       "|    |    └─Conv2d: 3-21                 [-1, 128, 16, 16]         147,456\n",
       "|    |    └─BatchNorm2d: 3-22            [-1, 128, 16, 16]         256\n",
       "|    |    └─Conv2d: 3-23                 [-1, 128, 16, 16]         147,456\n",
       "|    |    └─BatchNorm2d: 3-24            [-1, 128, 16, 16]         256\n",
       "|    |    └─Sequential: 3-25             [-1, 128, 16, 16]         --\n",
       "|    └─BasicBlock: 2-6                   [-1, 128, 16, 16]         --\n",
       "|    |    └─Conv2d: 3-26                 [-1, 128, 16, 16]         147,456\n",
       "|    |    └─BatchNorm2d: 3-27            [-1, 128, 16, 16]         256\n",
       "|    |    └─Conv2d: 3-28                 [-1, 128, 16, 16]         147,456\n",
       "|    |    └─BatchNorm2d: 3-29            [-1, 128, 16, 16]         256\n",
       "|    |    └─Sequential: 3-30             [-1, 128, 16, 16]         --\n",
       "|    └─BasicBlock: 2-7                   [-1, 128, 16, 16]         --\n",
       "|    |    └─Conv2d: 3-31                 [-1, 128, 16, 16]         147,456\n",
       "|    |    └─BatchNorm2d: 3-32            [-1, 128, 16, 16]         256\n",
       "|    |    └─Conv2d: 3-33                 [-1, 128, 16, 16]         147,456\n",
       "|    |    └─BatchNorm2d: 3-34            [-1, 128, 16, 16]         256\n",
       "|    |    └─Sequential: 3-35             [-1, 128, 16, 16]         --\n",
       "|    └─BasicBlock: 2-8                   [-1, 128, 16, 16]         --\n",
       "|    |    └─Conv2d: 3-36                 [-1, 128, 16, 16]         147,456\n",
       "|    |    └─BatchNorm2d: 3-37            [-1, 128, 16, 16]         256\n",
       "|    |    └─Conv2d: 3-38                 [-1, 128, 16, 16]         147,456\n",
       "|    |    └─BatchNorm2d: 3-39            [-1, 128, 16, 16]         256\n",
       "|    |    └─Sequential: 3-40             [-1, 128, 16, 16]         --\n",
       "├─Sequential: 1-5                        [-1, 256, 8, 8]           --\n",
       "|    └─BasicBlock: 2-9                   [-1, 256, 8, 8]           --\n",
       "|    |    └─Conv2d: 3-41                 [-1, 256, 8, 8]           294,912\n",
       "|    |    └─BatchNorm2d: 3-42            [-1, 256, 8, 8]           512\n",
       "|    |    └─Conv2d: 3-43                 [-1, 256, 8, 8]           589,824\n",
       "|    |    └─BatchNorm2d: 3-44            [-1, 256, 8, 8]           512\n",
       "|    |    └─Sequential: 3-45             [-1, 256, 8, 8]           33,280\n",
       "|    └─BasicBlock: 2-10                  [-1, 256, 8, 8]           --\n",
       "|    |    └─Conv2d: 3-46                 [-1, 256, 8, 8]           589,824\n",
       "|    |    └─BatchNorm2d: 3-47            [-1, 256, 8, 8]           512\n",
       "|    |    └─Conv2d: 3-48                 [-1, 256, 8, 8]           589,824\n",
       "|    |    └─BatchNorm2d: 3-49            [-1, 256, 8, 8]           512\n",
       "|    |    └─Sequential: 3-50             [-1, 256, 8, 8]           --\n",
       "|    └─BasicBlock: 2-11                  [-1, 256, 8, 8]           --\n",
       "|    |    └─Conv2d: 3-51                 [-1, 256, 8, 8]           589,824\n",
       "|    |    └─BatchNorm2d: 3-52            [-1, 256, 8, 8]           512\n",
       "|    |    └─Conv2d: 3-53                 [-1, 256, 8, 8]           589,824\n",
       "|    |    └─BatchNorm2d: 3-54            [-1, 256, 8, 8]           512\n",
       "|    |    └─Sequential: 3-55             [-1, 256, 8, 8]           --\n",
       "├─Linear: 1-6                            [-1, 10]                  2,570\n",
       "==========================================================================================\n",
       "Total params: 4,918,602\n",
       "Trainable params: 4,918,602\n",
       "Non-trainable params: 0\n",
       "Total mult-adds (M): 808.56\n",
       "==========================================================================================\n",
       "Input size (MB): 0.01\n",
       "Forward/backward pass size (MB): 14.25\n",
       "Params size (MB): 18.76\n",
       "Estimated Total Size (MB): 33.02\n",
       "=========================================================================================="
      ]
     },
     "execution_count": 5,
     "metadata": {},
     "output_type": "execute_result"
    }
   ],
   "source": [
    "summary(model, (3,32,32))"
   ]
  },
  {
   "cell_type": "markdown",
   "metadata": {
    "id": "pqQ8t2cWnAlc"
   },
   "source": [
    "Number of Trainable Parameters"
   ]
  },
  {
   "cell_type": "code",
   "execution_count": 6,
   "metadata": {
    "colab": {
     "base_uri": "https://localhost:8080/"
    },
    "id": "ikZY3XXSUSng",
    "outputId": "93127211-974a-4824-aab9-1b0872ee6133"
   },
   "outputs": [
    {
     "name": "stdout",
     "output_type": "stream",
     "text": [
      "4918602\n"
     ]
    }
   ],
   "source": [
    "def count_parameters(model):\n",
    "    return sum(p.numel() for p in model.parameters() if p.requires_grad)\n",
    "    # torch.numel() returns number of elements in a tensor\n",
    "\n",
    "print(count_parameters(model))"
   ]
  },
  {
   "cell_type": "markdown",
   "metadata": {
    "id": "On7LCkKCnJjn"
   },
   "source": [
    "#### Data with Augmentation\n",
    "\n"
   ]
  },
  {
   "cell_type": "code",
   "execution_count": 7,
   "metadata": {
    "colab": {
     "base_uri": "https://localhost:8080/"
    },
    "id": "c7T4uZhGLHxk",
    "outputId": "c38044ec-a6b6-4310-eda6-656ed98fc2e5"
   },
   "outputs": [
    {
     "name": "stdout",
     "output_type": "stream",
     "text": [
      "Files already downloaded and verified\n"
     ]
    }
   ],
   "source": [
    "standard_transform = transforms.Compose([\n",
    "                                         transforms.ToTensor(),\n",
    "                                         transforms.Normalize([0.4914, 0.4822, 0.4465], [0.247, 0.243, 0.261])\n",
    "                                         ])\n",
    "\n",
    "# Just Horizontal Flip\n",
    "augment_transform1 = transforms.Compose([\n",
    "                                         transforms.ToTensor(),\n",
    "                                         transforms.Normalize([0.4914, 0.4822, 0.4465], [0.247, 0.243, 0.261]),\n",
    "                                         transforms.RandomHorizontalFlip(p=1.0),\n",
    "                                         ])\n",
    "\n",
    "# Zoom-out\n",
    "augment_transform2 = transforms.Compose([\n",
    "                                         transforms.ToTensor(),\n",
    "                                         transforms.Normalize([0.4914, 0.4822, 0.4465], [0.247, 0.243, 0.261]),\n",
    "                                         transforms.RandomHorizontalFlip(),\n",
    "                                         transforms.RandomCrop(32, padding=4)\n",
    "                                         ])\n",
    "\n",
    "\n",
    "\n",
    "# Zoom-in\n",
    "augment_transform3 = transforms.Compose([\n",
    "                                         transforms.ToTensor(),\n",
    "                                         transforms.Normalize([0.4914, 0.4822, 0.4465], [0.247, 0.243, 0.261]),\n",
    "                                         transforms.RandomHorizontalFlip(),\n",
    "                                         transforms.Resize(size=(36, 36)),\n",
    "                                         transforms.RandomCrop(32)\n",
    "                                         ])\n",
    "\n",
    "# Rotation\n",
    "augment_transform4 = transforms.Compose([\n",
    "                                         transforms.ToTensor(),\n",
    "                                         transforms.Normalize([0.4914, 0.4822, 0.4465], [0.247, 0.243, 0.261]),\n",
    "                                         transforms.RandomHorizontalFlip(),\n",
    "                                         transforms.RandomRotation(90),\n",
    "                                         ])\n",
    "\n",
    "# Color Jitter\n",
    "augment_transform5 = transforms.Compose([\n",
    "                                         transforms.ToTensor(),\n",
    "                                         transforms.Normalize([0.4914, 0.4822, 0.4465], [0.247, 0.243, 0.261]),\n",
    "                                         transforms.ColorJitter(brightness=0.5, contrast=0.5, saturation=0.5, hue=0.5),\n",
    "                                         transforms.RandomHorizontalFlip(),\n",
    "                                         ])\n",
    "\n",
    "\n",
    "\n",
    "\n",
    "standardtrainingdata = torchvision.datasets.CIFAR10('./CIFAR10/',train=True,download=True,transform=standard_transform)\n",
    "augmentedtrainingdata1 = torchvision.datasets.CIFAR10('./CIFAR10/',train=True,download=False,transform=augment_transform1)\n",
    "augmentedtrainingdata2 = torchvision.datasets.CIFAR10('./CIFAR10/',train=True,download=False,transform=augment_transform2)\n",
    "augmentedtrainingdata3 = torchvision.datasets.CIFAR10('./CIFAR10/',train=True,download=False,transform=augment_transform3)\n",
    "augmentedtrainingdata4 = torchvision.datasets.CIFAR10('./CIFAR10/',train=True,download=False,transform=augment_transform4)\n",
    "augmentedtrainingdata5 = torchvision.datasets.CIFAR10('./CIFAR10/',train=True,download=False,transform=augment_transform5)\n",
    "# augmentedtrainingdata6 = torchvision.datasets.CIFAR10('./CIFAR10/',train=True,download=False,transform=augment_transform6)\n",
    "\n",
    "trainingdata = torch.utils.data.ConcatDataset([standardtrainingdata,\n",
    "                                               augmentedtrainingdata1,\n",
    "                                               augmentedtrainingdata2,\n",
    "                                               augmentedtrainingdata3,\n",
    "                                               augmentedtrainingdata4,\n",
    "                                               augmentedtrainingdata5,\n",
    "                                              #  augmentedtrainingdata6,\n",
    "                                               ])\n",
    "testdata = torchvision.datasets.CIFAR10('./CIFAR10/',train=False,download=False,transform=standard_transform)\n",
    "\n",
    "trainDataLoader = torch.utils.data.DataLoader(trainingdata,batch_size=32,shuffle=True, num_workers=2, pin_memory=True)\n",
    "testDataLoader = torch.utils.data.DataLoader(testdata,batch_size=64,shuffle=False, num_workers=2, pin_memory=True)"
   ]
  },
  {
   "cell_type": "markdown",
   "metadata": {
    "id": "aMegjxgHoQMc"
   },
   "source": [
    "#### Loss Metric and Optimizer (Cross Entropy and SGD)"
   ]
  },
  {
   "cell_type": "code",
   "execution_count": 8,
   "metadata": {
    "id": "WtdONLran2Vo"
   },
   "outputs": [],
   "source": [
    "import torch.optim as optim\n",
    "\n",
    "# Loss\n",
    "criterion = nn.CrossEntropyLoss()\n",
    "\n",
    "# Optimizer\n",
    "lr = 0.1\n",
    "momentum = 0.9\n",
    "milestones = [15,25,35,45]\n",
    "gamma = 0.1\n",
    "weight_decay = 0.0001\n",
    "\n",
    "optimizer = optim.SGD(\n",
    "                      model.parameters(),\n",
    "                      lr=lr,\n",
    "                      momentum=momentum,\n",
    "                      weight_decay=weight_decay,\n",
    "                      )\n",
    "scheduler = optim.lr_scheduler.MultiStepLR(optimizer=optimizer, milestones=milestones, gamma=gamma)"
   ]
  },
  {
   "cell_type": "code",
   "execution_count": 9,
   "metadata": {
    "colab": {
     "base_uri": "https://localhost:8080/"
    },
    "id": "LqcODIBOS82-",
    "outputId": "7a2a5e50-b2e1-4f3a-c809-7332254e78ee"
   },
   "outputs": [
    {
     "name": "stdout",
     "output_type": "stream",
     "text": [
      "Epoch 0, Train Loss: 1.31016, Test loss 0.65194, Test acc 0.7735\n",
      "Epoch 1, Train Loss: 0.72435, Test loss 0.60359, Test acc 0.797\n",
      "Epoch 2, Train Loss: 0.61797, Test loss 0.45038, Test acc 0.8493\n",
      "Epoch 3, Train Loss: 0.57188, Test loss 0.45223, Test acc 0.8472\n",
      "Epoch 4, Train Loss: 0.54522, Test loss 0.42265, Test acc 0.856\n",
      "Epoch 5, Train Loss: 0.52769, Test loss 0.39305, Test acc 0.8671\n",
      "Epoch 6, Train Loss: 0.5162, Test loss 0.38161, Test acc 0.873\n",
      "Epoch 7, Train Loss: 0.50687, Test loss 0.39373, Test acc 0.8703\n",
      "Epoch 8, Train Loss: 0.49828, Test loss 0.39382, Test acc 0.8623\n",
      "Epoch 9, Train Loss: 0.49179, Test loss 0.42162, Test acc 0.8599\n",
      "Epoch 10, Train Loss: 0.486, Test loss 0.36408, Test acc 0.8796\n",
      "Epoch 11, Train Loss: 0.48453, Test loss 0.34469, Test acc 0.8827\n",
      "Epoch 12, Train Loss: 0.48048, Test loss 0.37031, Test acc 0.8769\n",
      "Epoch 13, Train Loss: 0.47863, Test loss 0.39189, Test acc 0.8726\n",
      "Epoch 14, Train Loss: 0.47579, Test loss 0.33445, Test acc 0.8864\n",
      "Epoch 15, Train Loss: 0.24794, Test loss 0.16798, Test acc 0.9439\n",
      "Model Saved... Accuracy = 0.9438999891281128\n",
      "Epoch 16, Train Loss: 0.195, Test loss 0.17008, Test acc 0.9452\n",
      "Model Saved... Accuracy = 0.9451999664306641\n",
      "Epoch 17, Train Loss: 0.17614, Test loss 0.17206, Test acc 0.9435\n",
      "Epoch 18, Train Loss: 0.16756, Test loss 0.17696, Test acc 0.9445\n",
      "Epoch 19, Train Loss: 0.16461, Test loss 0.17599, Test acc 0.9436\n",
      "Epoch 20, Train Loss: 0.16403, Test loss 0.19124, Test acc 0.9417\n",
      "Epoch 21, Train Loss: 0.16543, Test loss 0.21718, Test acc 0.9309\n",
      "Epoch 22, Train Loss: 0.16807, Test loss 0.18253, Test acc 0.9433\n",
      "Epoch 23, Train Loss: 0.16744, Test loss 0.19309, Test acc 0.9404\n",
      "Epoch 24, Train Loss: 0.16791, Test loss 0.2013, Test acc 0.9361\n",
      "Epoch 25, Train Loss: 0.10685, Test loss 0.15329, Test acc 0.9536\n",
      "Model Saved... Accuracy = 0.9535999894142151\n",
      "Epoch 26, Train Loss: 0.08974, Test loss 0.15291, Test acc 0.9531\n",
      "Epoch 27, Train Loss: 0.08228, Test loss 0.15047, Test acc 0.9538\n",
      "Model Saved... Accuracy = 0.9537999629974365\n",
      "Epoch 28, Train Loss: 0.07821, Test loss 0.15522, Test acc 0.9548\n",
      "Model Saved... Accuracy = 0.9547999501228333\n",
      "Epoch 29, Train Loss: 0.0735, Test loss 0.14869, Test acc 0.9552\n",
      "Model Saved... Accuracy = 0.9551999568939209\n",
      "Epoch 30, Train Loss: 0.06986, Test loss 0.14861, Test acc 0.9544\n",
      "Epoch 31, Train Loss: 0.06911, Test loss 0.15461, Test acc 0.9539\n",
      "Epoch 32, Train Loss: 0.06623, Test loss 0.14908, Test acc 0.9556\n",
      "Model Saved... Accuracy = 0.9555999636650085\n",
      "Epoch 33, Train Loss: 0.06284, Test loss 0.15863, Test acc 0.9524\n",
      "Epoch 34, Train Loss: 0.06213, Test loss 0.15278, Test acc 0.9552\n",
      "Epoch 35, Train Loss: 0.05724, Test loss 0.15262, Test acc 0.9552\n",
      "Epoch 36, Train Loss: 0.05511, Test loss 0.15189, Test acc 0.9561\n",
      "Model Saved... Accuracy = 0.9560999870300293\n",
      "Epoch 37, Train Loss: 0.05436, Test loss 0.15089, Test acc 0.9553\n",
      "Epoch 38, Train Loss: 0.05402, Test loss 0.14986, Test acc 0.9555\n",
      "Epoch 39, Train Loss: 0.05324, Test loss 0.14969, Test acc 0.9563\n",
      "Model Saved... Accuracy = 0.9562999606132507\n",
      "Epoch 40, Train Loss: 0.05279, Test loss 0.14819, Test acc 0.9559\n",
      "Epoch 41, Train Loss: 0.05307, Test loss 0.15071, Test acc 0.9557\n",
      "Epoch 42, Train Loss: 0.05284, Test loss 0.15108, Test acc 0.9552\n",
      "Epoch 43, Train Loss: 0.05194, Test loss 0.1514, Test acc 0.9557\n",
      "Epoch 44, Train Loss: 0.05296, Test loss 0.1522, Test acc 0.9545\n",
      "Epoch 45, Train Loss: 0.05169, Test loss 0.15119, Test acc 0.9553\n",
      "Epoch 46, Train Loss: 0.05116, Test loss 0.15099, Test acc 0.9567\n",
      "Model Saved... Accuracy = 0.9566999673843384\n",
      "Epoch 47, Train Loss: 0.0514, Test loss 0.15083, Test acc 0.9554\n",
      "Epoch 48, Train Loss: 0.05091, Test loss 0.15337, Test acc 0.9551\n",
      "Epoch 49, Train Loss: 0.05119, Test loss 0.15058, Test acc 0.9556\n"
     ]
    }
   ],
   "source": [
    "train_loss_history = []\n",
    "test_loss_history = []\n",
    "train_acc_history = []\n",
    "test_acc_history = []\n",
    "\n",
    "EPOCHS = 50\n",
    "\n",
    "best_accuracy = 0.0\n",
    "\n",
    "for epoch in range(EPOCHS):\n",
    "    train_loss = 0.0\n",
    "    test_loss = 0.0\n",
    "    train_acc = 0.0\n",
    "    test_acc = 0.0\n",
    "\n",
    "    model.train()\n",
    "    for i, data in enumerate(trainDataLoader):\n",
    "        images, labels = data\n",
    "        images = images.cuda()\n",
    "        labels = labels.cuda()\n",
    "        optimizer.zero_grad()\n",
    "        output = model(images)\n",
    "        _, predictions = torch.max(output, 1)\n",
    "        fit = criterion(output,labels)\n",
    "        fit.backward()\n",
    "        optimizer.step()\n",
    "        train_loss += fit.item()\n",
    "        train_acc += torch.sum(predictions == labels.data)\n",
    "    scheduler.step()\n",
    "\n",
    "    model.eval()\n",
    "    for i, data in enumerate(testDataLoader):\n",
    "        with torch.no_grad():\n",
    "            images, labels = data\n",
    "            images = images.cuda()\n",
    "            labels = labels.cuda()\n",
    "            output = model(images)\n",
    "            _, predictions = torch.max(output, 1)\n",
    "            fit = criterion(output,labels)\n",
    "            test_loss += fit.item()\n",
    "            test_acc += torch.sum(predictions == labels.data)\n",
    "\n",
    "    train_loss = train_loss/len(trainDataLoader)\n",
    "    test_loss = test_loss/len(testDataLoader)\n",
    "    train_loss_history.append(train_loss)\n",
    "    test_loss_history.append(test_loss)\n",
    "    train_acc = (train_acc.float() / len(trainDataLoader.dataset)).item()\n",
    "    test_acc = (test_acc.float() / len(testDataLoader.dataset)).item()\n",
    "\n",
    "    train_acc_history += [train_acc]\n",
    "    test_acc_history += [test_acc]\n",
    "    print('Epoch %s, Train Loss: %s, Test loss %s, Test acc %s'%(epoch, np.round(train_loss, 5), np.round(test_loss, 5), np.round(test_acc, 5)))\n",
    "\n",
    "    if (test_acc >= 0.94) and (test_acc > best_accuracy):\n",
    "        best_accuracy = test_acc\n",
    "        torch.save(model.state_dict(), 'res.pt')\n",
    "        print(\"Model Saved... Accuracy = \" + str(test_acc))"
   ]
  },
  {
   "cell_type": "code",
   "execution_count": 24,
   "metadata": {
    "colab": {
     "base_uri": "https://localhost:8080/",
     "height": 313
    },
    "id": "40V3igPVU5B1",
    "outputId": "036e4d35-247b-4884-9f34-5fea5da1e542"
   },
   "outputs": [
    {
     "data": {
      "image/png": "[encoded data removed]",
      "text/plain": [
       "<Figure size 432x288 with 1 Axes>"
      ]
     },
     "metadata": {
      "needs_background": "light"
     },
     "output_type": "display_data"
    }
   ],
   "source": [
    "import matplotlib.pyplot as plt\n",
    "\n",
    "plt.plot(train_loss_history)\n",
    "plt.plot(test_loss_history)\n",
    "plt.legend([\"train\", \"val\"])\n",
    "plt.title(\"Loss\")\n",
    "plt.xlabel(\"Epoch\")\n",
    "plt.ylabel(\"Loss\")\n",
    "plt.savefig('loss.png', dpi=1200)"
   ]
  },
  {
   "cell_type": "code",
   "execution_count": 25,
   "metadata": {
    "colab": {
     "base_uri": "https://localhost:8080/",
     "height": 313
    },
    "id": "Z_2Kb__XqBRU",
    "outputId": "be5c8c5e-faaa-4941-bb5d-196655cae0d1"
   },
   "outputs": [
    {
     "data": {
      "image/png": "[encoded data removed]",
      "text/plain": [
       "<Figure size 432x288 with 1 Axes>"
      ]
     },
     "metadata": {
      "needs_background": "light"
     },
     "output_type": "display_data"
    }
   ],
   "source": [
    "plt.plot(train_acc_history)\n",
    "plt.plot(test_acc_history)\n",
    "plt.legend([\"train\", \"val\"])\n",
    "plt.title(\"Accuracy\")\n",
    "plt.xlabel(\"Epoch\")\n",
    "plt.ylabel(\"Accuracy\")\n",
    "plt.savefig('acc.png', dpi=1200)"
   ]
  }
 ],
 "metadata": {
  "accelerator": "GPU",
  "colab": {
   "background_execution": "on",
   "collapsed_sections": [],
   "name": "approach_II_a.ipynb",
   "provenance": []
  },
  "kernelspec": {
   "display_name": "Python 3 (ipykernel)",
   "language": "python",
   "name": "python3"
  },
  "language_info": {
   "codemirror_mode": {
    "name": "ipython",
    "version": 3
   },
   "file_extension": ".py",
   "mimetype": "text/x-python",
   "name": "python",
   "nbconvert_exporter": "python",
   "pygments_lexer": "ipython3",
   "version": "3.9.7"
  }
 },
 "nbformat": 4,
 "nbformat_minor": 1
}
